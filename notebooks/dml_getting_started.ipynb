{
 "cells": [
  {
   "cell_type": "markdown",
   "id": "5fdf5d8c-dc3e-4c99-8164-3d51d3198031",
   "metadata": {},
   "source": [
    "# DML Getting Started\n",
    "[Source](https://docs.doubleml.org/stable/intro/intro.html)"
   ]
  },
  {
   "cell_type": "code",
   "execution_count": 2,
   "id": "11887ffb-4c33-4f63-9bc8-1a383f436c01",
   "metadata": {},
   "outputs": [],
   "source": [
    "!pip install doubleml -q"
   ]
  },
  {
   "cell_type": "code",
   "execution_count": 3,
   "id": "1100a3fa-c12d-4d27-9f79-0a545e1fedb0",
   "metadata": {},
   "outputs": [],
   "source": [
    "import numpy as np\n",
    "from doubleml.datasets import fetch_bonus"
   ]
  },
  {
   "cell_type": "code",
   "execution_count": 4,
   "id": "78203706-c105-4121-bcc0-4afe15f41f88",
   "metadata": {},
   "outputs": [
    {
     "name": "stdout",
     "output_type": "stream",
     "text": [
      "   index   abdt  tg  inuidur1  inuidur2  female  black  hispanic  othrace  \\\n",
      "0      0  10824   0  2.890372        18       0      0         0        0   \n",
      "1      3  10824   0  0.000000         1       0      0         0        0   \n",
      "2      4  10747   0  3.295837        27       0      0         0        0   \n",
      "3     11  10607   1  2.197225         9       0      0         0        0   \n",
      "4     12  10831   0  3.295837        27       0      0         0        0   \n",
      "\n",
      "   dep  ...  recall  agelt35  agegt54  durable  nondurable  lusd  husd  muld  \\\n",
      "0    2  ...       0        0        0        0           0     0     1     0   \n",
      "1    0  ...       0        0        0        0           0     1     0     0   \n",
      "2    0  ...       0        0        0        0           0     1     0     0   \n",
      "3    0  ...       0        1        0        0           0     0     0     1   \n",
      "4    1  ...       0        0        1        1           0     1     0     0   \n",
      "\n",
      "   dep1  dep2  \n",
      "0   0.0   1.0  \n",
      "1   0.0   0.0  \n",
      "2   0.0   0.0  \n",
      "3   0.0   0.0  \n",
      "4   1.0   0.0  \n",
      "\n",
      "[5 rows x 26 columns]\n"
     ]
    }
   ],
   "source": [
    "df_bonus = fetch_bonus('DataFrame')\n",
    "print(df_bonus.head(5))"
   ]
  },
  {
   "cell_type": "code",
   "execution_count": 6,
   "id": "a0eff01d-ecbc-4e81-8b10-4c9ea7139195",
   "metadata": {},
   "outputs": [
    {
     "name": "stdout",
     "output_type": "stream",
     "text": [
      "================== DoubleMLData Object ==================\n",
      "\n",
      "------------------ Data summary      ------------------\n",
      "Outcome variable: inuidur1\n",
      "Treatment variable(s): ['tg']\n",
      "Covariates: ['female', 'black', 'othrace', 'dep1', 'dep2', 'q2', 'q3', 'q4', 'q5', 'q6', 'agelt35', 'agegt54', 'durable', 'lusd', 'husd']\n",
      "Instrument variable(s): None\n",
      "No. Observations: 5099\n",
      "\n",
      "------------------ DataFrame info    ------------------\n",
      "<class 'pandas.core.frame.DataFrame'>\n",
      "RangeIndex: 5099 entries, 0 to 5098\n",
      "Columns: 26 entries, index to dep2\n",
      "dtypes: float64(3), int64(23)\n",
      "memory usage: 1.0 MB\n",
      "\n"
     ]
    }
   ],
   "source": [
    "from doubleml import DoubleMLData\n",
    "\n",
    "dml_data_bonus = DoubleMLData(\n",
    "    df_bonus,\n",
    "    y_col='inuidur1',\n",
    "    d_cols='tg',\n",
    "    x_cols=[\n",
    "        'female', 'black', 'othrace', 'dep1', 'dep2',\n",
    "        'q2', 'q3', 'q4', 'q5', 'q6', 'agelt35', 'agegt54',\n",
    "        'durable', 'lusd', 'husd'\n",
    "    ]\n",
    ")\n",
    " \n",
    "\n",
    "print(dml_data_bonus)"
   ]
  },
  {
   "cell_type": "code",
   "execution_count": 9,
   "id": "34b29e4c-dd70-4269-a62f-b0786076a387",
   "metadata": {},
   "outputs": [],
   "source": [
    "from sklearn.base import clone\n",
    "from sklearn.ensemble import RandomForestRegressor\n",
    "from sklearn.linear_model import LassoCV\n",
    "\n",
    "learner = RandomForestRegressor(n_estimators = 500, max_features = 'sqrt', max_depth= 5)\n",
    "ml_l_bonus = clone(learner)\n",
    "ml_m_bonus = clone(learner)"
   ]
  },
  {
   "cell_type": "code",
   "execution_count": 10,
   "id": "5dffde66-01c5-442b-b238-b14994bad2ba",
   "metadata": {},
   "outputs": [
    {
     "name": "stdout",
     "output_type": "stream",
     "text": [
      "================== DoubleMLPLR Object ==================\n",
      "\n",
      "------------------ Data summary      ------------------\n",
      "Outcome variable: inuidur1\n",
      "Treatment variable(s): ['tg']\n",
      "Covariates: ['female', 'black', 'othrace', 'dep1', 'dep2', 'q2', 'q3', 'q4', 'q5', 'q6', 'agelt35', 'agegt54', 'durable', 'lusd', 'husd']\n",
      "Instrument variable(s): None\n",
      "No. Observations: 5099\n",
      "\n",
      "------------------ Score & algorithm ------------------\n",
      "Score function: partialling out\n",
      "\n",
      "------------------ Machine learner   ------------------\n",
      "Learner ml_l: RandomForestRegressor(max_depth=5, max_features='sqrt', n_estimators=500)\n",
      "Learner ml_m: RandomForestRegressor(max_depth=5, max_features='sqrt', n_estimators=500)\n",
      "Out-of-sample Performance:\n",
      "Regression:\n",
      "Learner ml_l RMSE: [[1.20030664]]\n",
      "Learner ml_m RMSE: [[0.47419634]]\n",
      "\n",
      "------------------ Resampling        ------------------\n",
      "No. folds: 5\n",
      "No. repeated sample splits: 1\n",
      "\n",
      "------------------ Fit summary       ------------------\n",
      "        coef   std err         t     P>|t|     2.5 %    97.5 %\n",
      "tg -0.076686  0.035411 -2.165608  0.030341 -0.146089 -0.007282\n"
     ]
    }
   ],
   "source": [
    "from doubleml import DoubleMLPLR\n",
    "\n",
    "np.random.seed(3141)\n",
    "obj_dml_plr_bonus = DoubleMLPLR(dml_data_bonus, ml_l_bonus, ml_m_bonus)\n",
    "obj_dml_plr_bonus.fit();\n",
    "print(obj_dml_plr_bonus)"
   ]
  },
  {
   "cell_type": "code",
   "execution_count": null,
   "id": "64143038-77f9-40a5-b789-ffc7aeb2bcc2",
   "metadata": {},
   "outputs": [],
   "source": []
  }
 ],
 "metadata": {
  "kernelspec": {
   "display_name": "Python 3 (ipykernel)",
   "language": "python",
   "name": "python3"
  },
  "language_info": {
   "codemirror_mode": {
    "name": "ipython",
    "version": 3
   },
   "file_extension": ".py",
   "mimetype": "text/x-python",
   "name": "python",
   "nbconvert_exporter": "python",
   "pygments_lexer": "ipython3",
   "version": "3.10.14"
  }
 },
 "nbformat": 4,
 "nbformat_minor": 5
}

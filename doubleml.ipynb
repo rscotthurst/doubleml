{
 "cells": [
  {
   "cell_type": "markdown",
   "id": "e08356ac64d625d7",
   "metadata": {},
   "source": [
    "# DoubleML Implementation Example\n",
    "\n",
    "This is an implementation of DoubleML as reflected in [Bach, Chernozhukov, Kurz, Spindler, and Klassen (2021)](https://arxiv.org/pdf/2103.09603). See their [video of presentation](https://www.youtube.com/watch?v=ErecsyKEq74), [slides](https://drive.google.com/file/d/1MJKgkG_hV5-c41NIZfq5PF7fDW3L5NH5/view), and [website](https://docs.doubleml.org/stable/index.html#).\n",
    "\n",
    "This particular example is based on [this page](https://docs.doubleml.org/stable/examples/py_double_ml_pension.html)."
   ]
  },
  {
   "cell_type": "markdown",
   "id": "93fea9c8420cf6bb",
   "metadata": {},
   "source": [
    "401(k) plans are pension accounts sponsored by employers. **The key problem in determining the effect of participation in 401(k) plans on accumulated assets is saver heterogeneity coupled with the fact that the decision to enroll in a 401(k) is non-random**. \n",
    "\n",
    "It is generally recognized that some people have a higher preference for saving than others. It also seems likely that those individuals with high unobserved preference for saving would be most likely to choose to participate in tax-advantaged retirement savings plans and would tend to have otherwise high amounts of accumulated assets. **The presence of unobserved savings preferences with these properties then implies that conventional estimates that do not account for saver heterogeneity and endogeneity of participation will be biased upward, tending to overstate the savings effects of 401(k) participation.**\n",
    "\n",
    "One can argue that eligibility for enrolling in a 401(k) plan in this data can be taken as exogenous after conditioning on a few observables of which the most important for their argument is income. The basic idea is that, at least around the time 401(k)’s initially became available, people were unlikely to be basing their employment decisions on whether an employer offered a 401(k) but would instead focus on income and other aspects of the job."
   ]
  },
  {
   "cell_type": "markdown",
   "id": "8ab72e6ae499e73b",
   "metadata": {},
   "source": [
    "## Problem Formulation and Data\n",
    "Our example will use 401(k) retirement plan examples. We want to estimate Average Treatment Effect of eligibility in 401(k) plans on employee's net financial assets based on some covariates.\n",
    "\n",
    "Variable description, based on the supplementary material of Chernozhukov et al. (2020):\n",
    "\n",
    "- net_tfa: net total financial assets\n",
    "- e401: = 1 if employer offers 401(k)\n",
    "- p401: = 1 if individual participates in a 401(k) plan\n",
    "- age: age\n",
    "- inc: income\n",
    "- fsize: family size\n",
    "- educ: years of education\n",
    "- db: = 1 if individual has defined benefit pension\n",
    "- marr: = 1 if married\n",
    "- twoearn: = 1 if two-earner household\n",
    "- pira: = 1 if individual participates in IRA plan\n",
    "- hown: = 1 if home owner"
   ]
  },
  {
   "cell_type": "markdown",
   "id": "e6bceb43e776f947",
   "metadata": {},
   "source": [
    "### Get Data"
   ]
  },
  {
   "cell_type": "code",
   "execution_count": 1,
   "id": "bb2f838ce68e2a33",
   "metadata": {
    "ExecuteTime": {
     "end_time": "2024-08-15T17:37:22.111021Z",
     "start_time": "2024-08-15T17:37:22.108202Z"
    }
   },
   "outputs": [],
   "source": [
    "import pandas as pd\n",
    "from doubleml import DoubleMLData\n",
    "from doubleml.datasets import fetch_401K"
   ]
  },
  {
   "cell_type": "code",
   "execution_count": 2,
   "id": "c095e04c62b5a55e",
   "metadata": {
    "ExecuteTime": {
     "end_time": "2024-08-15T17:40:34.749392Z",
     "start_time": "2024-08-15T17:40:34.512636Z"
    }
   },
   "outputs": [
    {
     "data": {
      "text/html": [
       "<div>\n",
       "<style scoped>\n",
       "    .dataframe tbody tr th:only-of-type {\n",
       "        vertical-align: middle;\n",
       "    }\n",
       "\n",
       "    .dataframe tbody tr th {\n",
       "        vertical-align: top;\n",
       "    }\n",
       "\n",
       "    .dataframe thead th {\n",
       "        text-align: right;\n",
       "    }\n",
       "</style>\n",
       "<table border=\"1\" class=\"dataframe\">\n",
       "  <thead>\n",
       "    <tr style=\"text-align: right;\">\n",
       "      <th></th>\n",
       "      <th>nifa</th>\n",
       "      <th>net_tfa</th>\n",
       "      <th>tw</th>\n",
       "      <th>age</th>\n",
       "      <th>inc</th>\n",
       "      <th>fsize</th>\n",
       "      <th>educ</th>\n",
       "      <th>db</th>\n",
       "      <th>marr</th>\n",
       "      <th>twoearn</th>\n",
       "      <th>e401</th>\n",
       "      <th>p401</th>\n",
       "      <th>pira</th>\n",
       "      <th>hown</th>\n",
       "    </tr>\n",
       "  </thead>\n",
       "  <tbody>\n",
       "    <tr>\n",
       "      <th>0</th>\n",
       "      <td>0.0</td>\n",
       "      <td>0.0</td>\n",
       "      <td>4500.0</td>\n",
       "      <td>47</td>\n",
       "      <td>6765.0</td>\n",
       "      <td>2</td>\n",
       "      <td>8</td>\n",
       "      <td>0</td>\n",
       "      <td>0</td>\n",
       "      <td>0</td>\n",
       "      <td>0</td>\n",
       "      <td>0</td>\n",
       "      <td>0</td>\n",
       "      <td>1</td>\n",
       "    </tr>\n",
       "    <tr>\n",
       "      <th>1</th>\n",
       "      <td>6215.0</td>\n",
       "      <td>1015.0</td>\n",
       "      <td>22390.0</td>\n",
       "      <td>36</td>\n",
       "      <td>28452.0</td>\n",
       "      <td>1</td>\n",
       "      <td>16</td>\n",
       "      <td>0</td>\n",
       "      <td>0</td>\n",
       "      <td>0</td>\n",
       "      <td>0</td>\n",
       "      <td>0</td>\n",
       "      <td>0</td>\n",
       "      <td>1</td>\n",
       "    </tr>\n",
       "    <tr>\n",
       "      <th>2</th>\n",
       "      <td>0.0</td>\n",
       "      <td>-2000.0</td>\n",
       "      <td>-2000.0</td>\n",
       "      <td>37</td>\n",
       "      <td>3300.0</td>\n",
       "      <td>6</td>\n",
       "      <td>12</td>\n",
       "      <td>1</td>\n",
       "      <td>0</td>\n",
       "      <td>0</td>\n",
       "      <td>0</td>\n",
       "      <td>0</td>\n",
       "      <td>0</td>\n",
       "      <td>0</td>\n",
       "    </tr>\n",
       "    <tr>\n",
       "      <th>3</th>\n",
       "      <td>15000.0</td>\n",
       "      <td>15000.0</td>\n",
       "      <td>155000.0</td>\n",
       "      <td>58</td>\n",
       "      <td>52590.0</td>\n",
       "      <td>2</td>\n",
       "      <td>16</td>\n",
       "      <td>0</td>\n",
       "      <td>1</td>\n",
       "      <td>1</td>\n",
       "      <td>0</td>\n",
       "      <td>0</td>\n",
       "      <td>0</td>\n",
       "      <td>1</td>\n",
       "    </tr>\n",
       "    <tr>\n",
       "      <th>4</th>\n",
       "      <td>0.0</td>\n",
       "      <td>0.0</td>\n",
       "      <td>58000.0</td>\n",
       "      <td>32</td>\n",
       "      <td>21804.0</td>\n",
       "      <td>1</td>\n",
       "      <td>11</td>\n",
       "      <td>0</td>\n",
       "      <td>0</td>\n",
       "      <td>0</td>\n",
       "      <td>0</td>\n",
       "      <td>0</td>\n",
       "      <td>0</td>\n",
       "      <td>1</td>\n",
       "    </tr>\n",
       "  </tbody>\n",
       "</table>\n",
       "</div>"
      ],
      "text/plain": [
       "      nifa  net_tfa        tw  age      inc  fsize  educ  db  marr  twoearn  \\\n",
       "0      0.0      0.0    4500.0   47   6765.0      2     8   0     0        0   \n",
       "1   6215.0   1015.0   22390.0   36  28452.0      1    16   0     0        0   \n",
       "2      0.0  -2000.0   -2000.0   37   3300.0      6    12   1     0        0   \n",
       "3  15000.0  15000.0  155000.0   58  52590.0      2    16   0     1        1   \n",
       "4      0.0      0.0   58000.0   32  21804.0      1    11   0     0        0   \n",
       "\n",
       "   e401  p401  pira  hown  \n",
       "0     0     0     0     1  \n",
       "1     0     0     0     1  \n",
       "2     0     0     0     0  \n",
       "3     0     0     0     1  \n",
       "4     0     0     0     1  "
      ]
     },
     "execution_count": 2,
     "metadata": {},
     "output_type": "execute_result"
    }
   ],
   "source": [
    "data = fetch_401K(return_type='DataFrame')\n",
    "data.head()"
   ]
  },
  {
   "cell_type": "markdown",
   "id": "6baeecc03cf12df1",
   "metadata": {},
   "source": [
    "### Explore Dataset\n",
    "We have 9,915 cases. Of those 3682 (37%) are eligible to participate in 401(k) and 2594 actually participate in it."
   ]
  },
  {
   "cell_type": "code",
   "execution_count": 3,
   "id": "5a255e088ffc6a31",
   "metadata": {
    "ExecuteTime": {
     "end_time": "2024-08-15T17:36:37.218535Z",
     "start_time": "2024-08-15T17:36:37.214388Z"
    }
   },
   "outputs": [
    {
     "name": "stdout",
     "output_type": "stream",
     "text": [
      "(9915, 14)\n",
      "e401\n",
      "0    6233\n",
      "1    3682\n",
      "Name: count, dtype: int64\n",
      "p401\n",
      "0    7321\n",
      "1    2594\n",
      "Name: count, dtype: int64\n"
     ]
    }
   ],
   "source": [
    "print(data.shape)\n",
    "print(data.e401.value_counts())\n",
    "print(data.p401.value_counts())\n"
   ]
  },
  {
   "cell_type": "markdown",
   "id": "2f6b3116bd3d9fc4",
   "metadata": {},
   "source": [
    "Our outcome variable will be `net_tfa` or net total financial assets in dollars. The net financial assets are computed as the sum of IRA balances, 401(k) balances, checking accounts, saving bonds, other interest-earning accounts, other interest-earning assets, stocks, and mutual funds less non mortgage debts. The variable has quite a bit of variation with long tails. The mean `net_tfa` is 18,051 and median is 1,499. The value can be negative too.\n",
    "\n",
    "We can see that those eligible for participation do have much higher `net_tfa` than those who are not eligible. The difference between the `net_tfa` for the two groups is the **average predictive effect** (APE). This effect corresponds to the average treatment effect if 401(k) eligibility would be assigned to individuals in an entirely randomized way. The unconditional APE of `e401` is about 19,559 and the unconditional APE of `p401` is ~27,371.\n",
    "\n",
    "The tempation would be to say that people who are eligible for a 401(k) have a net worth of 19,559 higher than those not eligible. **However, these estimates are biased since they do not account for saver heterogeneity and endogeneity of participation.** To fix this, we're going to choose some control variables that might help clue us into the differences between people eligible and not eligible with the goal of isolating the effect of only the eligibility.\n"
   ]
  },
  {
   "cell_type": "code",
   "execution_count": 4,
   "id": "a786af84281385f1",
   "metadata": {
    "ExecuteTime": {
     "end_time": "2024-08-15T18:29:52.716905Z",
     "start_time": "2024-08-15T18:29:52.706178Z"
    }
   },
   "outputs": [
    {
     "name": "stdout",
     "output_type": "stream",
     "text": [
      "count    9.915000e+03\n",
      "mean     1.805153e+04\n",
      "std      6.352250e+04\n",
      "min     -5.023020e+05\n",
      "25%     -5.000000e+02\n",
      "50%      1.499000e+03\n",
      "75%      1.652450e+04\n",
      "max      1.536798e+06\n",
      "Name: net_tfa, dtype: float64\n",
      "\n",
      "\n",
      "e401\n",
      "0    10788.043945\n",
      "1    30347.388672\n",
      "Name: net_tfa, dtype: float32\n",
      "\n",
      "\n",
      "p401\n",
      "0    10890.477539\n",
      "1    38262.058594\n",
      "Name: net_tfa, dtype: float32\n"
     ]
    }
   ],
   "source": [
    "print(data.net_tfa.describe())\n",
    "print('\\n')\n",
    "print(data.groupby(['e401']).net_tfa.mean())\n",
    "print('\\n')\n",
    "print(data.groupby(['p401']).net_tfa.mean())"
   ]
  },
  {
   "cell_type": "markdown",
   "id": "86f3a686e844037c",
   "metadata": {},
   "source": [
    "### Setup Data Backend\n",
    "Let’s use the package `DoubleML` to estimate the average treatment effect of 401(k) eligibility, i.e. e401, and participation, i.e. p401, on net financial assets net_tfa."
   ]
  },
  {
   "cell_type": "code",
   "execution_count": 5,
   "id": "7a6ab80e225d437f",
   "metadata": {},
   "outputs": [
    {
     "name": "stdout",
     "output_type": "stream",
     "text": [
      "================== DoubleMLData Object ==================\n",
      "\n",
      "------------------ Data summary      ------------------\n",
      "Outcome variable: net_tfa\n",
      "Treatment variable(s): ['e401']\n",
      "Covariates: ['age', 'inc', 'educ', 'fsize', 'marr', 'twoearn', 'db', 'pira', 'hown']\n",
      "Instrument variable(s): None\n",
      "No. Observations: 9915\n",
      "\n",
      "------------------ DataFrame info    ------------------\n",
      "<class 'pandas.core.frame.DataFrame'>\n",
      "RangeIndex: 9915 entries, 0 to 9914\n",
      "Columns: 14 entries, nifa to hown\n",
      "dtypes: float32(4), int8(10)\n",
      "memory usage: 251.9 KB\n",
      "\n"
     ]
    }
   ],
   "source": [
    "dml_data = DoubleMLData(\n",
    "    data,\n",
    "    y_col='net_tfa',\n",
    "    d_cols='e401',\n",
    "    x_cols=['age', 'inc', 'educ', 'fsize', 'marr', 'twoearn', 'db', 'pira', 'hown']\n",
    ")\n",
    "print(dml_data)"
   ]
  },
  {
   "cell_type": "markdown",
   "id": "71a13bb8-edc6-48c2-83b2-b66922c6d2a4",
   "metadata": {},
   "source": [
    "## DOUBLE Machine Learning!\n",
    "\n",
    "The \"double\" aspect of DML comes from the fact that it involves two distinct steps or models:\n",
    "1. Nuisance Function Estimation: In this first step, two \"nuisance functions\" are estimated:\n",
    "    - The conditional expectation of the target variable given the input features, $E[Y|X]$\n",
    "    - The conditional expectation of the input features given the confounding variables, $E[X|Z]$\n",
    "2. Causal Effect Estimation: In the second step, the estimated nuisance functions are used to compute the causal effect of the input features on the target variable, taking into account the potential presence of confounding variables.\n",
    "\n",
    "This two-step approach allows DML to effectively handle high-dimensional data, capture complex relationships, and provide unbiased estimates of the causal effects, even in the presence of confounding variables that may not be directly observed."
   ]
  },
  {
   "cell_type": "markdown",
   "id": "d8c7a2c9-91c7-4f77-92cc-ea72d4d95b03",
   "metadata": {},
   "source": [
    "### Nuisance Function Estimation\n",
    "Define ML learners that we want to use with their hyperparameters. We need two because one is for the conditional expectation of the outcome given covariates (regressor). The other is for the propensity of the treatment given the covariates. And since our treatment is binary that one is a classifier."
   ]
  },
  {
   "cell_type": "code",
   "execution_count": 6,
   "id": "1058b929-dc88-4340-a556-1d0606d283a3",
   "metadata": {},
   "outputs": [],
   "source": [
    "# Random Forest Learners\n",
    "from sklearn.ensemble import RandomForestClassifier, RandomForestRegressor\n",
    "\n",
    "# Use regressor becuase outcome variable (net_tfa) is continuous\n",
    "ml_l_rf = RandomForestRegressor(n_estimators=500, max_depth=7,\n",
    "                                max_features=3, min_samples_leaf=3)\n",
    "\n",
    "# Use classifier becuase treatment variable (e401) is continuous\n",
    "ml_m_rf = RandomForestClassifier(n_estimators=500, max_depth=5,\n",
    "                                max_features=4, min_samples_leaf=7)"
   ]
  },
  {
   "cell_type": "markdown",
   "id": "ba88fb2e-d400-49e1-abca-e4bf47fba96c",
   "metadata": {},
   "source": [
    "### DoubleML Specifications\n",
    "Here we combine both ML learners into one DoubleML object."
   ]
  },
  {
   "cell_type": "code",
   "execution_count": 7,
   "id": "40ae38d6-5f22-4d8b-9999-7137aee07cbc",
   "metadata": {},
   "outputs": [],
   "source": [
    "import numpy as np\n",
    "from doubleml import DoubleMLPLR # Partial Linear Regression\n",
    "\n",
    "# Set Random Seed\n",
    "np.random.seed(42)\n",
    "\n",
    "# Use default values, see documentation for configurable hyperparams\n",
    "dml_plr_rf = DoubleMLPLR(\n",
    "    dml_data,\n",
    "    ml_l=ml_l_rf,\n",
    "    ml_m=ml_m_rf\n",
    ")"
   ]
  },
  {
   "cell_type": "markdown",
   "id": "4870c87f-dc16-4f84-b88f-1c8da9a63d3e",
   "metadata": {},
   "source": [
    "### Estimation\n",
    "Similar to sklearn, we use a `fit()` method and then call `summary`."
   ]
  },
  {
   "cell_type": "code",
   "execution_count": 8,
   "id": "81e117e5-14d0-4650-a502-ec7f4b0d4ba3",
   "metadata": {},
   "outputs": [
    {
     "data": {
      "text/html": [
       "<div>\n",
       "<style scoped>\n",
       "    .dataframe tbody tr th:only-of-type {\n",
       "        vertical-align: middle;\n",
       "    }\n",
       "\n",
       "    .dataframe tbody tr th {\n",
       "        vertical-align: top;\n",
       "    }\n",
       "\n",
       "    .dataframe thead th {\n",
       "        text-align: right;\n",
       "    }\n",
       "</style>\n",
       "<table border=\"1\" class=\"dataframe\">\n",
       "  <thead>\n",
       "    <tr style=\"text-align: right;\">\n",
       "      <th></th>\n",
       "      <th>coef</th>\n",
       "      <th>std err</th>\n",
       "      <th>t</th>\n",
       "      <th>P&gt;|t|</th>\n",
       "      <th>2.5 %</th>\n",
       "      <th>97.5 %</th>\n",
       "    </tr>\n",
       "  </thead>\n",
       "  <tbody>\n",
       "    <tr>\n",
       "      <th>e401</th>\n",
       "      <td>8923.15163</td>\n",
       "      <td>1310.348144</td>\n",
       "      <td>6.809756</td>\n",
       "      <td>9.776416e-12</td>\n",
       "      <td>6354.91646</td>\n",
       "      <td>11491.3868</td>\n",
       "    </tr>\n",
       "  </tbody>\n",
       "</table>\n",
       "</div>"
      ],
      "text/plain": [
       "            coef      std err         t         P>|t|       2.5 %      97.5 %\n",
       "e401  8923.15163  1310.348144  6.809756  9.776416e-12  6354.91646  11491.3868"
      ]
     },
     "execution_count": 8,
     "metadata": {},
     "output_type": "execute_result"
    }
   ],
   "source": [
    "dml_plr_rf.fit()\n",
    "dml_plr_rf.summary"
   ]
  },
  {
   "cell_type": "markdown",
   "id": "0db8b58f-c0f6-42b6-a1eb-408d8bf59589",
   "metadata": {},
   "source": [
    "Use `print()` for a more detailed summary"
   ]
  },
  {
   "cell_type": "code",
   "execution_count": 9,
   "id": "4e2b8f83-ea60-4537-a250-3cb141b339fc",
   "metadata": {},
   "outputs": [
    {
     "name": "stdout",
     "output_type": "stream",
     "text": [
      "================== DoubleMLPLR Object ==================\n",
      "\n",
      "------------------ Data summary      ------------------\n",
      "Outcome variable: net_tfa\n",
      "Treatment variable(s): ['e401']\n",
      "Covariates: ['age', 'inc', 'educ', 'fsize', 'marr', 'twoearn', 'db', 'pira', 'hown']\n",
      "Instrument variable(s): None\n",
      "No. Observations: 9915\n",
      "\n",
      "------------------ Score & algorithm ------------------\n",
      "Score function: partialling out\n",
      "\n",
      "------------------ Machine learner   ------------------\n",
      "Learner ml_l: RandomForestRegressor(max_depth=7, max_features=3, min_samples_leaf=3,\n",
      "                      n_estimators=500)\n",
      "Learner ml_m: RandomForestClassifier(max_depth=5, max_features=4, min_samples_leaf=7,\n",
      "                       n_estimators=500)\n",
      "Out-of-sample Performance:\n",
      "Learner ml_l RMSE: [[53459.62662778]]\n",
      "Learner ml_m RMSE: [[0.44283111]]\n",
      "\n",
      "------------------ Resampling        ------------------\n",
      "No. folds: 5\n",
      "No. repeated sample splits: 1\n",
      "\n",
      "------------------ Fit summary       ------------------\n",
      "            coef      std err         t         P>|t|       2.5 %      97.5 %\n",
      "e401  8923.15163  1310.348144  6.809756  9.776416e-12  6354.91646  11491.3868\n"
     ]
    }
   ],
   "source": [
    "print(dml_plr_rf)"
   ]
  },
  {
   "cell_type": "code",
   "execution_count": 10,
   "id": "b56bb4f0-2fb2-489a-9e66-221fdadb06e9",
   "metadata": {},
   "outputs": [
    {
     "data": {
      "text/html": [
       "<div>\n",
       "<style scoped>\n",
       "    .dataframe tbody tr th:only-of-type {\n",
       "        vertical-align: middle;\n",
       "    }\n",
       "\n",
       "    .dataframe tbody tr th {\n",
       "        vertical-align: top;\n",
       "    }\n",
       "\n",
       "    .dataframe thead th {\n",
       "        text-align: right;\n",
       "    }\n",
       "</style>\n",
       "<table border=\"1\" class=\"dataframe\">\n",
       "  <thead>\n",
       "    <tr style=\"text-align: right;\">\n",
       "      <th></th>\n",
       "      <th>2.5 %</th>\n",
       "      <th>97.5 %</th>\n",
       "    </tr>\n",
       "  </thead>\n",
       "  <tbody>\n",
       "    <tr>\n",
       "      <th>e401</th>\n",
       "      <td>6354.91646</td>\n",
       "      <td>11491.3868</td>\n",
       "    </tr>\n",
       "  </tbody>\n",
       "</table>\n",
       "</div>"
      ],
      "text/plain": [
       "           2.5 %      97.5 %\n",
       "e401  6354.91646  11491.3868"
      ]
     },
     "execution_count": 10,
     "metadata": {},
     "output_type": "execute_result"
    }
   ],
   "source": [
    "dml_plr_rf.confint(level=0.95)"
   ]
  },
  {
   "cell_type": "markdown",
   "id": "8b8698ae-16e4-4f0e-92e2-a7d15ab0e7a4",
   "metadata": {},
   "source": [
    "## Conclusion\n",
    "\n",
    "These estimates that flexibly account for confounding are substantially attenuated relative to the baseline estimate (19559) that does not account for confounding. They suggest much smaller causal effects of 401(k) eligiblity on financial asset holdings."
   ]
  },
  {
   "cell_type": "markdown",
   "id": "4ad58331-82b7-4a68-a6c4-d99c959bc26f",
   "metadata": {},
   "source": [
    "## Appendix A. Compare to Fixed-Effects Regression\n",
    "\n",
    "`PyFixest` package [documentation](https://github.com/py-econometrics/pyfixest)"
   ]
  },
  {
   "cell_type": "code",
   "execution_count": 11,
   "id": "24a8d274-8578-4d26-97dd-f22f259cf517",
   "metadata": {},
   "outputs": [],
   "source": [
    "!pip install pyfixest -q"
   ]
  },
  {
   "cell_type": "code",
   "execution_count": 12,
   "id": "ec2360cf-7193-4219-b0b1-9dd107c07210",
   "metadata": {},
   "outputs": [
    {
     "data": {
      "text/html": [
       "\n",
       "            <div id=\"eqJoWZ\"></div>\n",
       "            <script type=\"text/javascript\" data-lets-plot-script=\"library\">\n",
       "                if(!window.letsPlotCallQueue) {\n",
       "                    window.letsPlotCallQueue = [];\n",
       "                }; \n",
       "                window.letsPlotCall = function(f) {\n",
       "                    window.letsPlotCallQueue.push(f);\n",
       "                };\n",
       "                (function() {\n",
       "                    var script = document.createElement(\"script\");\n",
       "                    script.type = \"text/javascript\";\n",
       "                    script.src = \"https://cdn.jsdelivr.net/gh/JetBrains/lets-plot@v4.4.0/js-package/distr/lets-plot.min.js\";\n",
       "                    script.onload = function() {\n",
       "                        window.letsPlotCall = function(f) {f();};\n",
       "                        window.letsPlotCallQueue.forEach(function(f) {f();});\n",
       "                        window.letsPlotCallQueue = [];\n",
       "                        \n",
       "                    };\n",
       "                    script.onerror = function(event) {\n",
       "                        window.letsPlotCall = function(f) {};    // noop\n",
       "                        window.letsPlotCallQueue = [];\n",
       "                        var div = document.createElement(\"div\");\n",
       "                        div.style.color = 'darkred';\n",
       "                        div.textContent = 'Error loading Lets-Plot JS';\n",
       "                        document.getElementById(\"eqJoWZ\").appendChild(div);\n",
       "                    };\n",
       "                    var e = document.getElementById(\"eqJoWZ\");\n",
       "                    e.appendChild(script);\n",
       "                })()\n",
       "            </script>\n",
       "            "
      ]
     },
     "metadata": {},
     "output_type": "display_data"
    },
    {
     "data": {
      "text/html": [
       "\n",
       "            <div id=\"2BI2Px\"></div>\n",
       "            <script type=\"text/javascript\" data-lets-plot-script=\"library\">\n",
       "                if(!window.letsPlotCallQueue) {\n",
       "                    window.letsPlotCallQueue = [];\n",
       "                }; \n",
       "                window.letsPlotCall = function(f) {\n",
       "                    window.letsPlotCallQueue.push(f);\n",
       "                };\n",
       "                (function() {\n",
       "                    var script = document.createElement(\"script\");\n",
       "                    script.type = \"text/javascript\";\n",
       "                    script.src = \"https://cdn.jsdelivr.net/gh/JetBrains/lets-plot@v4.4.0/js-package/distr/lets-plot.min.js\";\n",
       "                    script.onload = function() {\n",
       "                        window.letsPlotCall = function(f) {f();};\n",
       "                        window.letsPlotCallQueue.forEach(function(f) {f();});\n",
       "                        window.letsPlotCallQueue = [];\n",
       "                        \n",
       "                    };\n",
       "                    script.onerror = function(event) {\n",
       "                        window.letsPlotCall = function(f) {};    // noop\n",
       "                        window.letsPlotCallQueue = [];\n",
       "                        var div = document.createElement(\"div\");\n",
       "                        div.style.color = 'darkred';\n",
       "                        div.textContent = 'Error loading Lets-Plot JS';\n",
       "                        document.getElementById(\"2BI2Px\").appendChild(div);\n",
       "                    };\n",
       "                    var e = document.getElementById(\"2BI2Px\");\n",
       "                    e.appendChild(script);\n",
       "                })()\n",
       "            </script>\n",
       "            "
      ]
     },
     "metadata": {},
     "output_type": "display_data"
    },
    {
     "name": "stderr",
     "output_type": "stream",
     "text": [
      "OMP: Info #276: omp_set_nested routine deprecated, please use omp_set_max_active_levels instead.\n"
     ]
    },
    {
     "name": "stdout",
     "output_type": "stream",
     "text": [
      "###\n",
      "\n",
      "Estimation:  OLS\n",
      "Dep. var.: net_tfa, Fixed effects: age+inc+educ+fsize+marr+twoearn+db+pira+hown\n",
      "Inference:  CRV1\n",
      "Observations:  9915\n",
      "\n",
      "| Coefficient   |   Estimate |   Std. Error |   t value |   Pr(>|t|) |     2.5% |     97.5% |\n",
      "|:--------------|-----------:|-------------:|----------:|-----------:|---------:|----------:|\n",
      "| e401          |   8272.764 |     1707.744 |     4.844 |      0.000 | 4818.527 | 11727.002 |\n",
      "---\n",
      "RMSE: 18187.031 R2: 0.918 R2 Within: 0.01 \n"
     ]
    }
   ],
   "source": [
    "import pyfixest as pf\n",
    "\n",
    "feols_estimator = pf.feols(\n",
    "    \"net_tfa ~ e401 | age + inc + educ + fsize + marr + twoearn + db + pira + hown\", \n",
    "    data=data\n",
    ")\n",
    "\n",
    "feols_estimator.summary()"
   ]
  },
  {
   "cell_type": "code",
   "execution_count": 13,
   "id": "71f38267-6886-444e-993c-1b5d81e793cf",
   "metadata": {},
   "outputs": [],
   "source": [
    "feols_summary = pd.concat((feols_estimator.coef(), feols_estimator.confint()), axis=1)\n",
    "feols_summary.columns = ['coef', '2.5 %', '97.5 %']\n",
    "feols_summary.index = ['feols']"
   ]
  },
  {
   "cell_type": "markdown",
   "id": "d9b87e8d-33bd-48de-9463-b8034da3f03b",
   "metadata": {},
   "source": [
    "## Appendix B. Compare to DML with XGBOOST"
   ]
  },
  {
   "cell_type": "markdown",
   "id": "a2785254-841b-4deb-ace0-4ab94be3f275",
   "metadata": {},
   "source": [
    "### Nuisance Function Estimation"
   ]
  },
  {
   "cell_type": "code",
   "execution_count": 14,
   "id": "56849797-a128-42aa-95be-ee5e6c3a7ced",
   "metadata": {},
   "outputs": [],
   "source": [
    "from xgboost import XGBClassifier, XGBRegressor\n",
    "\n",
    "ml_l_xgb = XGBRegressor(objective='reg:squarederror', eta=0.1, n_estimators=35)\n",
    "ml_m_xgb = XGBClassifier(objective='binary:logistic', eta=0.1, n_estimators=34, eval_metric='logloss')"
   ]
  },
  {
   "cell_type": "markdown",
   "id": "6ffcac1b-fa6b-4caf-9fd8-b7c8708f8316",
   "metadata": {},
   "source": [
    "### DoubleML Specifications\n",
    "\n",
    "This time I'll adjust hyperparams instead of just taking defaults like I did before."
   ]
  },
  {
   "cell_type": "code",
   "execution_count": 15,
   "id": "9e21e7b9-7ea1-47fa-b611-e66d145a1c8f",
   "metadata": {},
   "outputs": [],
   "source": [
    "dml_plr_xgb = DoubleMLPLR(\n",
    "    dml_data,\n",
    "    ml_l=ml_l_xgb,\n",
    "    ml_m=ml_m_xgb,\n",
    "    n_folds=3,\n",
    "    n_rep=1,\n",
    "    score='partialling out'\n",
    ")"
   ]
  },
  {
   "cell_type": "markdown",
   "id": "ce6e86f5-66fd-4f03-9089-405d84050cd4",
   "metadata": {},
   "source": [
    "### Estimator"
   ]
  },
  {
   "cell_type": "code",
   "execution_count": 16,
   "id": "be4c98ff-6d0b-41cf-afc6-b2fe5d2bd94a",
   "metadata": {},
   "outputs": [
    {
     "data": {
      "text/html": [
       "<div>\n",
       "<style scoped>\n",
       "    .dataframe tbody tr th:only-of-type {\n",
       "        vertical-align: middle;\n",
       "    }\n",
       "\n",
       "    .dataframe tbody tr th {\n",
       "        vertical-align: top;\n",
       "    }\n",
       "\n",
       "    .dataframe thead th {\n",
       "        text-align: right;\n",
       "    }\n",
       "</style>\n",
       "<table border=\"1\" class=\"dataframe\">\n",
       "  <thead>\n",
       "    <tr style=\"text-align: right;\">\n",
       "      <th></th>\n",
       "      <th>coef</th>\n",
       "      <th>std err</th>\n",
       "      <th>t</th>\n",
       "      <th>P&gt;|t|</th>\n",
       "      <th>2.5 %</th>\n",
       "      <th>97.5 %</th>\n",
       "    </tr>\n",
       "  </thead>\n",
       "  <tbody>\n",
       "    <tr>\n",
       "      <th>e401</th>\n",
       "      <td>8971.790545</td>\n",
       "      <td>1417.862726</td>\n",
       "      <td>6.327686</td>\n",
       "      <td>2.488644e-10</td>\n",
       "      <td>6192.830667</td>\n",
       "      <td>11750.750423</td>\n",
       "    </tr>\n",
       "  </tbody>\n",
       "</table>\n",
       "</div>"
      ],
      "text/plain": [
       "             coef      std err         t         P>|t|        2.5 %  \\\n",
       "e401  8971.790545  1417.862726  6.327686  2.488644e-10  6192.830667   \n",
       "\n",
       "            97.5 %  \n",
       "e401  11750.750423  "
      ]
     },
     "execution_count": 16,
     "metadata": {},
     "output_type": "execute_result"
    }
   ],
   "source": [
    "dml_plr_xgb.fit()\n",
    "dml_plr_xgb.summary"
   ]
  },
  {
   "cell_type": "code",
   "execution_count": 17,
   "id": "2df9e2a4-b971-4688-8ff0-5172431688cf",
   "metadata": {},
   "outputs": [],
   "source": [
    "plr_summary = pd.concat((dml_plr_rf.summary, dml_plr_xgb.summary))\n",
    "plr_summary.index = ['forest', 'xgboost']\n",
    "plr_summary = plr_summary[['coef', '2.5 %', '97.5 %']]"
   ]
  },
  {
   "cell_type": "markdown",
   "id": "afefeb0d-df23-4d04-8718-abc7affdae6b",
   "metadata": {},
   "source": [
    "### Compare all Three"
   ]
  },
  {
   "cell_type": "code",
   "execution_count": 18,
   "id": "79bfe629-181a-47b8-b1b3-c5c9efca4e82",
   "metadata": {},
   "outputs": [
    {
     "data": {
      "text/html": [
       "<div>\n",
       "<style scoped>\n",
       "    .dataframe tbody tr th:only-of-type {\n",
       "        vertical-align: middle;\n",
       "    }\n",
       "\n",
       "    .dataframe tbody tr th {\n",
       "        vertical-align: top;\n",
       "    }\n",
       "\n",
       "    .dataframe thead th {\n",
       "        text-align: right;\n",
       "    }\n",
       "</style>\n",
       "<table border=\"1\" class=\"dataframe\">\n",
       "  <thead>\n",
       "    <tr style=\"text-align: right;\">\n",
       "      <th></th>\n",
       "      <th>coef</th>\n",
       "      <th>2.5 %</th>\n",
       "      <th>97.5 %</th>\n",
       "    </tr>\n",
       "  </thead>\n",
       "  <tbody>\n",
       "    <tr>\n",
       "      <th>forest</th>\n",
       "      <td>8923.151630</td>\n",
       "      <td>6354.916460</td>\n",
       "      <td>11491.386800</td>\n",
       "    </tr>\n",
       "    <tr>\n",
       "      <th>xgboost</th>\n",
       "      <td>8971.790545</td>\n",
       "      <td>6192.830667</td>\n",
       "      <td>11750.750423</td>\n",
       "    </tr>\n",
       "    <tr>\n",
       "      <th>feols</th>\n",
       "      <td>8272.764290</td>\n",
       "      <td>4818.526925</td>\n",
       "      <td>11727.001654</td>\n",
       "    </tr>\n",
       "  </tbody>\n",
       "</table>\n",
       "</div>"
      ],
      "text/plain": [
       "                coef        2.5 %        97.5 %\n",
       "forest   8923.151630  6354.916460  11491.386800\n",
       "xgboost  8971.790545  6192.830667  11750.750423\n",
       "feols    8272.764290  4818.526925  11727.001654"
      ]
     },
     "execution_count": 18,
     "metadata": {},
     "output_type": "execute_result"
    }
   ],
   "source": [
    "all_summary = pd.concat((plr_summary, feols_summary))\n",
    "all_summary"
   ]
  },
  {
   "cell_type": "code",
   "execution_count": 19,
   "id": "27fca4e9-3a1a-4bb8-9b57-77554a42797b",
   "metadata": {},
   "outputs": [
    {
     "data": {
      "text/plain": [
       "Text(0, 0.5, 'Coefficients and 95%-CI')"
      ]
     },
     "execution_count": 19,
     "metadata": {},
     "output_type": "execute_result"
    },
    {
     "data": {
      "image/png": "[encoded data removed]",
      "text/plain": [
       "<Figure size 640x480 with 1 Axes>"
      ]
     },
     "metadata": {},
     "output_type": "display_data"
    }
   ],
   "source": [
    "import matplotlib.pyplot as plt\n",
    "\n",
    "errors = np.full((2, all_summary.shape[0]), np.nan)\n",
    "errors[0, :] = all_summary['coef'] - all_summary['2.5 %']\n",
    "errors[1, :] = all_summary['97.5 %'] - all_summary['coef']\n",
    "plt.errorbar(all_summary.index, all_summary.coef, fmt='o', yerr=errors)\n",
    "plt.ylim([0, 12500])\n",
    "\n",
    "plt.xlabel('ML method')\n",
    "plt.ylabel('Coefficients and 95%-CI')"
   ]
  },
  {
   "cell_type": "code",
   "execution_count": null,
   "id": "f972cb4c-301c-4cc4-9e3a-5983a70afcea",
   "metadata": {},
   "outputs": [],
   "source": []
  }
 ],
 "metadata": {
  "kernelspec": {
   "display_name": "Python 3 (ipykernel)",
   "language": "python",
   "name": "python3"
  },
  "language_info": {
   "codemirror_mode": {
    "name": "ipython",
    "version": 3
   },
   "file_extension": ".py",
   "mimetype": "text/x-python",
   "name": "python",
   "nbconvert_exporter": "python",
   "pygments_lexer": "ipython3",
   "version": "3.12.4"
  }
 },
 "nbformat": 4,
 "nbformat_minor": 5
}
